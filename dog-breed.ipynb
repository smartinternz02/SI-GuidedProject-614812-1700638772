{
 "cells": [
  {
   "cell_type": "code",
   "execution_count": 2,
   "id": "34cde501",
   "metadata": {},
   "outputs": [],
   "source": [
    "import cv2\n",
    "import numpy as np \n",
    "import pandas as pd \n",
    "from tensorflow.keras.preprocessing.image import ImageDataGenerator\n",
    "from sklearn.model_selection import train_test_split\n",
    "from sklearn.preprocessing import LabelEncoder\n",
    "from tensorflow.keras.models import load_model, Model\n",
    "from tensorflow.keras.optimizers import RMSprop\n",
    "from tensorflow.keras.layers import Dense, GlobalAveragePooling2D, Dropout, BatchNormalization\n",
    "from tensorflow.keras.applications.resnet_v2 import ResNet50V2, preprocess_input"
   ]
  },
  {
   "cell_type": "code",
   "execution_count": 3,
   "id": "1e5897c6",
   "metadata": {},
   "outputs": [],
   "source": [
    "df_labels = pd.read_csv(\"labels.csv\")\n",
    "train_file = 'train/'\n",
    "test_file = 'test/'"
   ]
  },
  {
   "cell_type": "code",
   "execution_count": 4,
   "id": "456ba312",
   "metadata": {},
   "outputs": [
    {
     "data": {
      "text/html": [
       "<div>\n",
       "<style scoped>\n",
       "    .dataframe tbody tr th:only-of-type {\n",
       "        vertical-align: middle;\n",
       "    }\n",
       "\n",
       "    .dataframe tbody tr th {\n",
       "        vertical-align: top;\n",
       "    }\n",
       "\n",
       "    .dataframe thead th {\n",
       "        text-align: right;\n",
       "    }\n",
       "</style>\n",
       "<table border=\"1\" class=\"dataframe\">\n",
       "  <thead>\n",
       "    <tr style=\"text-align: right;\">\n",
       "      <th></th>\n",
       "      <th>id</th>\n",
       "      <th>breed</th>\n",
       "    </tr>\n",
       "  </thead>\n",
       "  <tbody>\n",
       "    <tr>\n",
       "      <th>0</th>\n",
       "      <td>000bec180eb18c7604dcecc8fe0dba07</td>\n",
       "      <td>boston_bull</td>\n",
       "    </tr>\n",
       "    <tr>\n",
       "      <th>1</th>\n",
       "      <td>001513dfcb2ffafc82cccf4d8bbaba97</td>\n",
       "      <td>dingo</td>\n",
       "    </tr>\n",
       "    <tr>\n",
       "      <th>2</th>\n",
       "      <td>001cdf01b096e06d78e9e5112d419397</td>\n",
       "      <td>pekinese</td>\n",
       "    </tr>\n",
       "    <tr>\n",
       "      <th>3</th>\n",
       "      <td>00214f311d5d2247d5dfe4fe24b2303d</td>\n",
       "      <td>bluetick</td>\n",
       "    </tr>\n",
       "    <tr>\n",
       "      <th>4</th>\n",
       "      <td>0021f9ceb3235effd7fcde7f7538ed62</td>\n",
       "      <td>golden_retriever</td>\n",
       "    </tr>\n",
       "    <tr>\n",
       "      <th>...</th>\n",
       "      <td>...</td>\n",
       "      <td>...</td>\n",
       "    </tr>\n",
       "    <tr>\n",
       "      <th>10217</th>\n",
       "      <td>ffd25009d635cfd16e793503ac5edef0</td>\n",
       "      <td>borzoi</td>\n",
       "    </tr>\n",
       "    <tr>\n",
       "      <th>10218</th>\n",
       "      <td>ffd3f636f7f379c51ba3648a9ff8254f</td>\n",
       "      <td>dandie_dinmont</td>\n",
       "    </tr>\n",
       "    <tr>\n",
       "      <th>10219</th>\n",
       "      <td>ffe2ca6c940cddfee68fa3cc6c63213f</td>\n",
       "      <td>airedale</td>\n",
       "    </tr>\n",
       "    <tr>\n",
       "      <th>10220</th>\n",
       "      <td>ffe5f6d8e2bff356e9482a80a6e29aac</td>\n",
       "      <td>miniature_pinscher</td>\n",
       "    </tr>\n",
       "    <tr>\n",
       "      <th>10221</th>\n",
       "      <td>fff43b07992508bc822f33d8ffd902ae</td>\n",
       "      <td>chesapeake_bay_retriever</td>\n",
       "    </tr>\n",
       "  </tbody>\n",
       "</table>\n",
       "<p>10222 rows × 2 columns</p>\n",
       "</div>"
      ],
      "text/plain": [
       "                                     id                     breed\n",
       "0      000bec180eb18c7604dcecc8fe0dba07               boston_bull\n",
       "1      001513dfcb2ffafc82cccf4d8bbaba97                     dingo\n",
       "2      001cdf01b096e06d78e9e5112d419397                  pekinese\n",
       "3      00214f311d5d2247d5dfe4fe24b2303d                  bluetick\n",
       "4      0021f9ceb3235effd7fcde7f7538ed62          golden_retriever\n",
       "...                                 ...                       ...\n",
       "10217  ffd25009d635cfd16e793503ac5edef0                    borzoi\n",
       "10218  ffd3f636f7f379c51ba3648a9ff8254f            dandie_dinmont\n",
       "10219  ffe2ca6c940cddfee68fa3cc6c63213f                  airedale\n",
       "10220  ffe5f6d8e2bff356e9482a80a6e29aac        miniature_pinscher\n",
       "10221  fff43b07992508bc822f33d8ffd902ae  chesapeake_bay_retriever\n",
       "\n",
       "[10222 rows x 2 columns]"
      ]
     },
     "execution_count": 4,
     "metadata": {},
     "output_type": "execute_result"
    }
   ],
   "source": [
    "df_labels"
   ]
  },
  {
   "cell_type": "code",
   "execution_count": 5,
   "id": "7fac9d64",
   "metadata": {},
   "outputs": [
    {
     "name": "stdout",
     "output_type": "stream",
     "text": [
      "Total number of unique Dog Breeds : 120\n"
     ]
    }
   ],
   "source": [
    "print(\"Total number of unique Dog Breeds :\",len(df_labels.breed.unique()))"
   ]
  },
  {
   "cell_type": "code",
   "execution_count": 6,
   "id": "ac48917c",
   "metadata": {},
   "outputs": [],
   "source": [
    "num_breeds = 60\n",
    "im_size = 224\n",
    "batch_size = 64\n",
    "encoder = LabelEncoder()"
   ]
  },
  {
   "cell_type": "code",
   "execution_count": 7,
   "id": "ecf6b40a",
   "metadata": {},
   "outputs": [],
   "source": [
    "breed_dict = list(df_labels['breed'].value_counts().keys()) \n",
    "new_list = sorted(breed_dict,reverse=True)[:num_breeds*2+1:2]\n",
    "df_labels = df_labels.query('breed in @new_list')"
   ]
  },
  {
   "cell_type": "code",
   "execution_count": 8,
   "id": "e966253e",
   "metadata": {},
   "outputs": [
    {
     "data": {
      "text/plain": [
       "['yorkshire_terrier',\n",
       " 'whippet',\n",
       " 'welsh_springer_spaniel',\n",
       " 'walker_hound',\n",
       " 'toy_terrier',\n",
       " 'tibetan_terrier',\n",
       " 'sussex_spaniel',\n",
       " 'standard_poodle',\n",
       " 'soft-coated_wheaten_terrier',\n",
       " 'siberian_husky',\n",
       " 'shetland_sheepdog',\n",
       " 'scottish_deerhound',\n",
       " 'schipperke',\n",
       " 'saluki',\n",
       " 'rottweiler',\n",
       " 'redbone',\n",
       " 'pomeranian',\n",
       " 'pekinese',\n",
       " 'otterhound',\n",
       " 'norwich_terrier',\n",
       " 'norfolk_terrier',\n",
       " 'miniature_schnauzer',\n",
       " 'miniature_pinscher',\n",
       " 'maltese_dog',\n",
       " 'malamute',\n",
       " 'leonberg',\n",
       " 'labrador_retriever',\n",
       " 'komondor',\n",
       " 'kelpie',\n",
       " 'japanese_spaniel',\n",
       " 'irish_wolfhound',\n",
       " 'irish_terrier',\n",
       " 'ibizan_hound',\n",
       " 'greater_swiss_mountain_dog',\n",
       " 'great_dane',\n",
       " 'golden_retriever',\n",
       " 'german_short-haired_pointer',\n",
       " 'french_bulldog',\n",
       " 'eskimo_dog',\n",
       " 'english_springer',\n",
       " 'english_foxhound',\n",
       " 'dingo',\n",
       " 'dandie_dinmont',\n",
       " 'collie',\n",
       " 'clumber',\n",
       " 'chihuahua',\n",
       " 'cardigan',\n",
       " 'bull_mastiff',\n",
       " 'briard',\n",
       " 'boxer',\n",
       " 'boston_bull',\n",
       " 'border_terrier',\n",
       " 'bluetick',\n",
       " 'blenheim_spaniel',\n",
       " 'bernese_mountain_dog',\n",
       " 'beagle',\n",
       " 'basenji',\n",
       " 'appenzeller',\n",
       " 'airedale',\n",
       " 'afghan_hound']"
      ]
     },
     "execution_count": 8,
     "metadata": {},
     "output_type": "execute_result"
    }
   ],
   "source": [
    "new_list"
   ]
  },
  {
   "cell_type": "code",
   "execution_count": 13,
   "id": "a247e25f",
   "metadata": {},
   "outputs": [
    {
     "data": {
      "text/html": [
       "<div>\n",
       "<style scoped>\n",
       "    .dataframe tbody tr th:only-of-type {\n",
       "        vertical-align: middle;\n",
       "    }\n",
       "\n",
       "    .dataframe tbody tr th {\n",
       "        vertical-align: top;\n",
       "    }\n",
       "\n",
       "    .dataframe thead th {\n",
       "        text-align: right;\n",
       "    }\n",
       "</style>\n",
       "<table border=\"1\" class=\"dataframe\">\n",
       "  <thead>\n",
       "    <tr style=\"text-align: right;\">\n",
       "      <th></th>\n",
       "      <th>id</th>\n",
       "      <th>breed</th>\n",
       "    </tr>\n",
       "  </thead>\n",
       "  <tbody>\n",
       "    <tr>\n",
       "      <th>0</th>\n",
       "      <td>000bec180eb18c7604dcecc8fe0dba07</td>\n",
       "      <td>boston_bull</td>\n",
       "    </tr>\n",
       "    <tr>\n",
       "      <th>1</th>\n",
       "      <td>001513dfcb2ffafc82cccf4d8bbaba97</td>\n",
       "      <td>dingo</td>\n",
       "    </tr>\n",
       "    <tr>\n",
       "      <th>2</th>\n",
       "      <td>001cdf01b096e06d78e9e5112d419397</td>\n",
       "      <td>pekinese</td>\n",
       "    </tr>\n",
       "    <tr>\n",
       "      <th>3</th>\n",
       "      <td>00214f311d5d2247d5dfe4fe24b2303d</td>\n",
       "      <td>bluetick</td>\n",
       "    </tr>\n",
       "    <tr>\n",
       "      <th>4</th>\n",
       "      <td>0021f9ceb3235effd7fcde7f7538ed62</td>\n",
       "      <td>golden_retriever</td>\n",
       "    </tr>\n",
       "  </tbody>\n",
       "</table>\n",
       "</div>"
      ],
      "text/plain": [
       "                                 id             breed\n",
       "0  000bec180eb18c7604dcecc8fe0dba07       boston_bull\n",
       "1  001513dfcb2ffafc82cccf4d8bbaba97             dingo\n",
       "2  001cdf01b096e06d78e9e5112d419397          pekinese\n",
       "3  00214f311d5d2247d5dfe4fe24b2303d          bluetick\n",
       "4  0021f9ceb3235effd7fcde7f7538ed62  golden_retriever"
      ]
     },
     "execution_count": 13,
     "metadata": {},
     "output_type": "execute_result"
    }
   ],
   "source": [
    "df_labels.head()"
   ]
  },
  {
   "cell_type": "code",
   "execution_count": 14,
   "id": "9929db88",
   "metadata": {},
   "outputs": [
    {
     "name": "stderr",
     "output_type": "stream",
     "text": [
      "C:\\Users\\mrmel\\AppData\\Local\\Temp\\ipykernel_1564\\1967024964.py:1: SettingWithCopyWarning: \n",
      "A value is trying to be set on a copy of a slice from a DataFrame.\n",
      "Try using .loc[row_indexer,col_indexer] = value instead\n",
      "\n",
      "See the caveats in the documentation: https://pandas.pydata.org/pandas-docs/stable/user_guide/indexing.html#returning-a-view-versus-a-copy\n",
      "  df_labels['img_file'] = df_labels['id'].apply(lambda x: x + \".jpg\")\n"
     ]
    }
   ],
   "source": [
    "df_labels['img_file'] = df_labels['id'].apply(lambda x: x + \".jpg\")"
   ]
  },
  {
   "cell_type": "code",
   "execution_count": 15,
   "id": "f33ad9cd",
   "metadata": {},
   "outputs": [
    {
     "data": {
      "text/html": [
       "<div>\n",
       "<style scoped>\n",
       "    .dataframe tbody tr th:only-of-type {\n",
       "        vertical-align: middle;\n",
       "    }\n",
       "\n",
       "    .dataframe tbody tr th {\n",
       "        vertical-align: top;\n",
       "    }\n",
       "\n",
       "    .dataframe thead th {\n",
       "        text-align: right;\n",
       "    }\n",
       "</style>\n",
       "<table border=\"1\" class=\"dataframe\">\n",
       "  <thead>\n",
       "    <tr style=\"text-align: right;\">\n",
       "      <th></th>\n",
       "      <th>id</th>\n",
       "      <th>breed</th>\n",
       "      <th>img_file</th>\n",
       "    </tr>\n",
       "  </thead>\n",
       "  <tbody>\n",
       "    <tr>\n",
       "      <th>0</th>\n",
       "      <td>000bec180eb18c7604dcecc8fe0dba07</td>\n",
       "      <td>boston_bull</td>\n",
       "      <td>000bec180eb18c7604dcecc8fe0dba07.jpg</td>\n",
       "    </tr>\n",
       "    <tr>\n",
       "      <th>1</th>\n",
       "      <td>001513dfcb2ffafc82cccf4d8bbaba97</td>\n",
       "      <td>dingo</td>\n",
       "      <td>001513dfcb2ffafc82cccf4d8bbaba97.jpg</td>\n",
       "    </tr>\n",
       "    <tr>\n",
       "      <th>2</th>\n",
       "      <td>001cdf01b096e06d78e9e5112d419397</td>\n",
       "      <td>pekinese</td>\n",
       "      <td>001cdf01b096e06d78e9e5112d419397.jpg</td>\n",
       "    </tr>\n",
       "    <tr>\n",
       "      <th>3</th>\n",
       "      <td>00214f311d5d2247d5dfe4fe24b2303d</td>\n",
       "      <td>bluetick</td>\n",
       "      <td>00214f311d5d2247d5dfe4fe24b2303d.jpg</td>\n",
       "    </tr>\n",
       "    <tr>\n",
       "      <th>4</th>\n",
       "      <td>0021f9ceb3235effd7fcde7f7538ed62</td>\n",
       "      <td>golden_retriever</td>\n",
       "      <td>0021f9ceb3235effd7fcde7f7538ed62.jpg</td>\n",
       "    </tr>\n",
       "    <tr>\n",
       "      <th>...</th>\n",
       "      <td>...</td>\n",
       "      <td>...</td>\n",
       "      <td>...</td>\n",
       "    </tr>\n",
       "    <tr>\n",
       "      <th>10214</th>\n",
       "      <td>ffcb610e811817766085054616551f9c</td>\n",
       "      <td>briard</td>\n",
       "      <td>ffcb610e811817766085054616551f9c.jpg</td>\n",
       "    </tr>\n",
       "    <tr>\n",
       "      <th>10215</th>\n",
       "      <td>ffcde16e7da0872c357fbc7e2168c05f</td>\n",
       "      <td>airedale</td>\n",
       "      <td>ffcde16e7da0872c357fbc7e2168c05f.jpg</td>\n",
       "    </tr>\n",
       "    <tr>\n",
       "      <th>10218</th>\n",
       "      <td>ffd3f636f7f379c51ba3648a9ff8254f</td>\n",
       "      <td>dandie_dinmont</td>\n",
       "      <td>ffd3f636f7f379c51ba3648a9ff8254f.jpg</td>\n",
       "    </tr>\n",
       "    <tr>\n",
       "      <th>10219</th>\n",
       "      <td>ffe2ca6c940cddfee68fa3cc6c63213f</td>\n",
       "      <td>airedale</td>\n",
       "      <td>ffe2ca6c940cddfee68fa3cc6c63213f.jpg</td>\n",
       "    </tr>\n",
       "    <tr>\n",
       "      <th>10220</th>\n",
       "      <td>ffe5f6d8e2bff356e9482a80a6e29aac</td>\n",
       "      <td>miniature_pinscher</td>\n",
       "      <td>ffe5f6d8e2bff356e9482a80a6e29aac.jpg</td>\n",
       "    </tr>\n",
       "  </tbody>\n",
       "</table>\n",
       "<p>5175 rows × 3 columns</p>\n",
       "</div>"
      ],
      "text/plain": [
       "                                     id               breed  \\\n",
       "0      000bec180eb18c7604dcecc8fe0dba07         boston_bull   \n",
       "1      001513dfcb2ffafc82cccf4d8bbaba97               dingo   \n",
       "2      001cdf01b096e06d78e9e5112d419397            pekinese   \n",
       "3      00214f311d5d2247d5dfe4fe24b2303d            bluetick   \n",
       "4      0021f9ceb3235effd7fcde7f7538ed62    golden_retriever   \n",
       "...                                 ...                 ...   \n",
       "10214  ffcb610e811817766085054616551f9c              briard   \n",
       "10215  ffcde16e7da0872c357fbc7e2168c05f            airedale   \n",
       "10218  ffd3f636f7f379c51ba3648a9ff8254f      dandie_dinmont   \n",
       "10219  ffe2ca6c940cddfee68fa3cc6c63213f            airedale   \n",
       "10220  ffe5f6d8e2bff356e9482a80a6e29aac  miniature_pinscher   \n",
       "\n",
       "                                   img_file  \n",
       "0      000bec180eb18c7604dcecc8fe0dba07.jpg  \n",
       "1      001513dfcb2ffafc82cccf4d8bbaba97.jpg  \n",
       "2      001cdf01b096e06d78e9e5112d419397.jpg  \n",
       "3      00214f311d5d2247d5dfe4fe24b2303d.jpg  \n",
       "4      0021f9ceb3235effd7fcde7f7538ed62.jpg  \n",
       "...                                     ...  \n",
       "10214  ffcb610e811817766085054616551f9c.jpg  \n",
       "10215  ffcde16e7da0872c357fbc7e2168c05f.jpg  \n",
       "10218  ffd3f636f7f379c51ba3648a9ff8254f.jpg  \n",
       "10219  ffe2ca6c940cddfee68fa3cc6c63213f.jpg  \n",
       "10220  ffe5f6d8e2bff356e9482a80a6e29aac.jpg  \n",
       "\n",
       "[5175 rows x 3 columns]"
      ]
     },
     "execution_count": 15,
     "metadata": {},
     "output_type": "execute_result"
    }
   ],
   "source": [
    "df_labels"
   ]
  },
  {
   "cell_type": "code",
   "execution_count": 16,
   "id": "4f79a9ce",
   "metadata": {},
   "outputs": [],
   "source": [
    "train_x = np.zeros((len(df_labels), im_size, im_size, 3), dtype='float32')\n",
    "for i, img_id in enumerate(df_labels['img_file']):\n",
    "  img = cv2.resize(cv2.imread(train_file+img_id,cv2.IMREAD_COLOR),((im_size,im_size)))\n",
    "  img_array = preprocess_input(np.expand_dims(np.array(img[...,::-1].astype(np.float32)).copy(), axis=0))\n",
    "  train_x[i] = img_array"
   ]
  },
  {
   "cell_type": "code",
   "execution_count": 14,
   "id": "c367a0ec",
   "metadata": {},
   "outputs": [],
   "source": [
    "train_y = encoder.fit_transform(df_labels[\"breed\"].values)"
   ]
  },
  {
   "cell_type": "code",
   "execution_count": 15,
   "id": "aa8b8aab",
   "metadata": {},
   "outputs": [],
   "source": [
    "x_train, x_test, y_train, y_test = train_test_split(train_x,train_y,test_size=0.2,random_state=42)"
   ]
  },
  {
   "cell_type": "code",
   "execution_count": 16,
   "id": "ff88ee3c",
   "metadata": {},
   "outputs": [],
   "source": [
    "train_datagen = ImageDataGenerator(rotation_range=45,width_shift_range=0.2,height_shift_range=0.2,\n",
    "                                   shear_range=0.2,zoom_range=0.25,horizontal_flip=True,fill_mode='nearest')\n",
    "train_generator = train_datagen.flow(x_train,y_train,batch_size=batch_size)\n",
    "test_datagen = ImageDataGenerator()\n",
    "test_generator = test_datagen.flow(x_test,y_test,batch_size=batch_size)"
   ]
  },
  {
   "cell_type": "code",
   "execution_count": 17,
   "id": "23436b49",
   "metadata": {},
   "outputs": [
    {
     "name": "stdout",
     "output_type": "stream",
     "text": [
      "Downloading data from https://storage.googleapis.com/tensorflow/keras-applications/resnet/resnet50v2_weights_tf_dim_ordering_tf_kernels_notop.h5\n",
      "94668760/94668760 [==============================] - 26s 0us/step\n"
     ]
    }
   ],
   "source": [
    "resnet = ResNet50V2(input_shape = [im_size,im_size,3], weights='imagenet', include_top=False)\n",
    "for layer in resnet.layers:\n",
    "    layer.trainable = False\n",
    "x = resnet.output\n",
    "x = BatchNormalization()(x)\n",
    "x = GlobalAveragePooling2D()(x)\n",
    "x = Dropout(0.5)(x)\n",
    "x = Dense(1024, activation='relu')(x)\n",
    "x = Dropout(0.5)(x)"
   ]
  },
  {
   "cell_type": "code",
   "execution_count": 1,
   "id": "f31412ee",
   "metadata": {},
   "outputs": [
    {
     "ename": "NameError",
     "evalue": "name 'Dense' is not defined",
     "output_type": "error",
     "traceback": [
      "\u001b[1;31m------------------------------------------------------------------------\u001b[0m",
      "\u001b[1;31mNameError\u001b[0m                              Traceback (most recent call last)",
      "Cell \u001b[1;32mIn[1], line 1\u001b[0m\n\u001b[1;32m----> 1\u001b[0m predictions \u001b[38;5;241m=\u001b[39m \u001b[43mDense\u001b[49m(num_breeds, activation\u001b[38;5;241m=\u001b[39m\u001b[38;5;124m'\u001b[39m\u001b[38;5;124msoftmax\u001b[39m\u001b[38;5;124m'\u001b[39m)(x)\n\u001b[0;32m      2\u001b[0m model \u001b[38;5;241m=\u001b[39m Model(inputs\u001b[38;5;241m=\u001b[39mresnet\u001b[38;5;241m.\u001b[39minput, outputs\u001b[38;5;241m=\u001b[39mpredictions)\n",
      "\u001b[1;31mNameError\u001b[0m: name 'Dense' is not defined"
     ]
    }
   ],
   "source": [
    "predictions = Dense(num_breeds, activation='softmax')(x)\n",
    "model = Model(inputs=resnet.input, outputs=predictions)"
   ]
  },
  {
   "cell_type": "code",
   "execution_count": 19,
   "id": "989bb363",
   "metadata": {},
   "outputs": [
    {
     "name": "stdout",
     "output_type": "stream",
     "text": [
      "Epoch 1/20\n",
      "64/64 [==============================] - 565s 9s/step - loss: 2.2446 - accuracy: 0.4325 - val_loss: 0.8102 - val_accuracy: 0.7490\n",
      "Epoch 2/20\n",
      "64/64 [==============================] - 581s 9s/step - loss: 1.2624 - accuracy: 0.6305 - val_loss: 0.7000 - val_accuracy: 0.7773\n",
      "Epoch 3/20\n",
      "64/64 [==============================] - 565s 9s/step - loss: 1.0925 - accuracy: 0.6776 - val_loss: 0.6618 - val_accuracy: 0.7910\n",
      "Epoch 4/20\n",
      "64/64 [==============================] - 562s 9s/step - loss: 0.9934 - accuracy: 0.7041 - val_loss: 0.6655 - val_accuracy: 0.8047\n",
      "Epoch 5/20\n",
      "64/64 [==============================] - 559s 9s/step - loss: 0.9355 - accuracy: 0.7196 - val_loss: 0.6551 - val_accuracy: 0.7988\n",
      "Epoch 6/20\n",
      "64/64 [==============================] - 581s 9s/step - loss: 0.9148 - accuracy: 0.7260 - val_loss: 0.6655 - val_accuracy: 0.8047\n",
      "Epoch 7/20\n",
      "64/64 [==============================] - 553s 9s/step - loss: 0.8981 - accuracy: 0.7267 - val_loss: 0.6657 - val_accuracy: 0.7969\n",
      "Epoch 8/20\n",
      "64/64 [==============================] - 548s 9s/step - loss: 0.8386 - accuracy: 0.7444 - val_loss: 0.6885 - val_accuracy: 0.8027\n",
      "Epoch 9/20\n",
      "64/64 [==============================] - 545s 9s/step - loss: 0.8150 - accuracy: 0.7564 - val_loss: 0.6775 - val_accuracy: 0.8018\n",
      "Epoch 10/20\n",
      "64/64 [==============================] - 539s 8s/step - loss: 0.7930 - accuracy: 0.7488 - val_loss: 0.6697 - val_accuracy: 0.7998\n",
      "Epoch 11/20\n",
      "64/64 [==============================] - 538s 8s/step - loss: 0.7583 - accuracy: 0.7657 - val_loss: 0.6884 - val_accuracy: 0.8008\n",
      "Epoch 12/20\n",
      "64/64 [==============================] - 611s 10s/step - loss: 0.7700 - accuracy: 0.7586 - val_loss: 0.6690 - val_accuracy: 0.8047\n",
      "Epoch 13/20\n",
      "64/64 [==============================] - 710s 11s/step - loss: 0.7467 - accuracy: 0.7770 - val_loss: 0.6780 - val_accuracy: 0.8066\n",
      "Epoch 14/20\n",
      "64/64 [==============================] - 712s 11s/step - loss: 0.7451 - accuracy: 0.7721 - val_loss: 0.6840 - val_accuracy: 0.8008\n",
      "Epoch 15/20\n",
      "64/64 [==============================] - 709s 11s/step - loss: 0.7158 - accuracy: 0.7848 - val_loss: 0.6798 - val_accuracy: 0.7998\n",
      "Epoch 16/20\n",
      "64/64 [==============================] - 707s 11s/step - loss: 0.6842 - accuracy: 0.7880 - val_loss: 0.6892 - val_accuracy: 0.8047\n",
      "Epoch 17/20\n",
      "64/64 [==============================] - 718s 11s/step - loss: 0.6841 - accuracy: 0.7888 - val_loss: 0.6887 - val_accuracy: 0.7939\n",
      "Epoch 18/20\n",
      "64/64 [==============================] - 716s 11s/step - loss: 0.6742 - accuracy: 0.7907 - val_loss: 0.7056 - val_accuracy: 0.7988\n",
      "Epoch 19/20\n",
      "64/64 [==============================] - 713s 11s/step - loss: 0.6589 - accuracy: 0.7934 - val_loss: 0.7290 - val_accuracy: 0.7959\n",
      "Epoch 20/20\n",
      "64/64 [==============================] - 709s 11s/step - loss: 0.6531 - accuracy: 0.7961 - val_loss: 0.7199 - val_accuracy: 0.8096\n"
     ]
    },
    {
     "name": "stderr",
     "output_type": "stream",
     "text": [
      "C:\\Users\\mrmel\\anaconda3\\lib\\site-packages\\keras\\src\\engine\\training.py:3079: UserWarning: You are saving your model as an HDF5 file via `model.save()`. This file format is considered legacy. We recommend using instead the native Keras format, e.g. `model.save('my_model.keras')`.\n",
      "  saving_api.save_model(\n"
     ]
    }
   ],
   "source": [
    "epochs = 20\n",
    "learning_rate = 1e-3\n",
    "optimizer = RMSprop(learning_rate=learning_rate,rho=0.9)\n",
    "model.compile(optimizer=optimizer,loss='sparse_categorical_crossentropy',metrics=[\"accuracy\"])\n",
    "hist = model.fit(train_generator,steps_per_epoch= x_train.shape[0] // batch_size,epochs= epochs,\n",
    "                 validation_data= test_generator,validation_steps= x_test.shape[0] // batch_size)\n",
    "model.save(\"dogbreedmodel.h5\")"
   ]
  },
  {
   "cell_type": "code",
   "execution_count": null,
   "id": "32dece36",
   "metadata": {},
   "outputs": [],
   "source": []
  },
  {
   "cell_type": "code",
   "execution_count": null,
   "id": "40a7905d",
   "metadata": {},
   "outputs": [],
   "source": []
  }
 ],
 "metadata": {
  "kernelspec": {
   "display_name": "Python 3 (ipykernel)",
   "language": "python",
   "name": "python3"
  },
  "language_info": {
   "codemirror_mode": {
    "name": "ipython",
    "version": 3
   },
   "file_extension": ".py",
   "mimetype": "text/x-python",
   "name": "python",
   "nbconvert_exporter": "python",
   "pygments_lexer": "ipython3",
   "version": "3.10.9"
  }
 },
 "nbformat": 4,
 "nbformat_minor": 5
}
